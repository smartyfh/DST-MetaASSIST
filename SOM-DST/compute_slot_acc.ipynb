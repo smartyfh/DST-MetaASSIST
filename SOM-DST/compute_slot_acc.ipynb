{
 "cells": [
  {
   "cell_type": "code",
   "execution_count": 1,
   "metadata": {},
   "outputs": [],
   "source": [
    "import json"
   ]
  },
  {
   "cell_type": "code",
   "execution_count": 2,
   "metadata": {},
   "outputs": [],
   "source": [
    "pred = json.load(open(\"pred/preds_0.json\"))"
   ]
  },
  {
   "cell_type": "code",
   "execution_count": 3,
   "metadata": {},
   "outputs": [],
   "source": [
    "# slot_meta = pred[\"SNG0073.json_0\"].keys()\n",
    "slot_meta = ['attraction-area', 'attraction-name', 'attraction-type', 'hotel-area', 'hotel-book day', 'hotel-book people', 'hotel-book stay', 'hotel-internet', 'hotel-name', 'hotel-parking', 'hotel-pricerange', 'hotel-stars', 'hotel-type', 'restaurant-area', 'restaurant-book day', 'restaurant-book people', 'restaurant-book time', 'restaurant-food', 'restaurant-name', 'restaurant-pricerange', 'taxi-arriveby', 'taxi-departure', 'taxi-destination', 'taxi-leaveat', 'train-arriveby', 'train-book people', 'train-day', 'train-departure', 'train-destination', 'train-leaveat']"
   ]
  },
  {
   "cell_type": "code",
   "execution_count": 4,
   "metadata": {},
   "outputs": [
    {
     "data": {
      "text/plain": [
       "30"
      ]
     },
     "execution_count": 4,
     "metadata": {},
     "output_type": "execute_result"
    }
   ],
   "source": [
    "len(slot_meta)"
   ]
  },
  {
   "cell_type": "code",
   "execution_count": 5,
   "metadata": {},
   "outputs": [
    {
     "name": "stdout",
     "output_type": "stream",
     "text": [
      "1973 2425 0.8136082474226805\n"
     ]
    }
   ],
   "source": [
    "domain = \"attraction\"\n",
    "jga = 0\n",
    "cnt = 0\n",
    "for tid in pred:\n",
    "    turn = pred[tid]\n",
    "    \n",
    "    is_active = False\n",
    "    for slot in slot_meta:\n",
    "        if domain in slot and turn[slot]['gt'] != \"none\":\n",
    "            is_active = True\n",
    "            break\n",
    "            \n",
    "    if not is_active:\n",
    "        continue\n",
    "    \n",
    "    cnt += 1\n",
    "    fg = True\n",
    "    for slot in slot_meta:\n",
    "        if domain not in slot:\n",
    "            continue\n",
    "        if turn[slot]['gt'] != turn[slot]['pred']:\n",
    "            fg = False\n",
    "#             print(turn[slot]['gt'], turn[slot]['pred'])\n",
    "    if fg:\n",
    "        jga += 1\n",
    "        \n",
    "print(jga, cnt, jga / cnt)"
   ]
  },
  {
   "cell_type": "code",
   "execution_count": 6,
   "metadata": {},
   "outputs": [
    {
     "name": "stdout",
     "output_type": "stream",
     "text": [
      "5171 7368 0.7018186753528773\n"
     ]
    }
   ],
   "source": [
    "# JGA\n",
    "jga = 0\n",
    "cnt = 0\n",
    "for tid in pred:\n",
    "    turn = pred[tid]\n",
    "    \n",
    "    cnt += 1\n",
    "    fg = True\n",
    "    for slot in slot_meta:\n",
    "        if turn[slot]['gt'] != turn[slot]['pred']:\n",
    "            fg = False\n",
    "#             print(turn[slot]['gt'], turn[slot]['pred'])\n",
    "    if fg:\n",
    "        jga += 1\n",
    "        \n",
    "print(jga, cnt, jga / cnt)"
   ]
  },
  {
   "cell_type": "code",
   "execution_count": 7,
   "metadata": {},
   "outputs": [
    {
     "name": "stdout",
     "output_type": "stream",
     "text": [
      "217935 221040 0.9859527687296417\n"
     ]
    }
   ],
   "source": [
    "# slot acc\n",
    "jga = 0\n",
    "cnt = 0\n",
    "for tid in pred:\n",
    "    turn = pred[tid]\n",
    "    \n",
    "    for slot in slot_meta:\n",
    "        cnt += 1\n",
    "        if turn[slot]['gt'] == turn[slot]['pred']:\n",
    "            jga += 1\n",
    "#             print(turn[slot]['gt'], turn[slot]['pred'])\n",
    "   \n",
    "        \n",
    "print(jga, cnt, jga / cnt)"
   ]
  },
  {
   "cell_type": "code",
   "execution_count": 8,
   "metadata": {},
   "outputs": [
    {
     "name": "stdout",
     "output_type": "stream",
     "text": [
      "6535 7368 0.886943539630836\n"
     ]
    }
   ],
   "source": [
    "# joint turn acc\n",
    "et = 0\n",
    "tt = 0\n",
    "for tid in pred:\n",
    "    tt += 1\n",
    "    turn = pred[tid]\n",
    "    if \"json_0\" in tid:\n",
    "        last_gt = {}\n",
    "        last_pred = {}\n",
    "        for slot in slot_meta:\n",
    "            last_gt[slot] = 'none'\n",
    "            last_pred[slot] = 'none'\n",
    "    turn_gt = []\n",
    "    turn_pred = []\n",
    "    for slot in slot_meta:\n",
    "        if turn[slot]['gt'] != last_gt[slot]:\n",
    "            turn_gt.append(slot+\"-\"+turn[slot]['gt'])\n",
    "            last_gt[slot] = turn[slot]['gt']\n",
    "        if turn[slot]['pred'] != last_pred[slot]:\n",
    "            turn_pred.append(slot+\"-\"+turn[slot]['pred'])\n",
    "            last_pred[slot] = turn[slot]['pred']\n",
    "    if turn_gt == turn_pred:\n",
    "        et += 1\n",
    "print(et, tt, et/tt)"
   ]
  },
  {
   "cell_type": "code",
   "execution_count": null,
   "metadata": {},
   "outputs": [],
   "source": []
  }
 ],
 "metadata": {
  "kernelspec": {
   "display_name": "Python 3 (ipykernel)",
   "language": "python",
   "name": "python3"
  }
 },
 "nbformat": 4,
 "nbformat_minor": 4
}
